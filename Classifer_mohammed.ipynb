{
 "cells": [
  {
   "cell_type": "code",
   "execution_count": 6,
   "metadata": {
    "collapsed": true
   },
   "outputs": [],
   "source": [
    "import pandas as pd\n",
    "import numpy as np\n",
    "import matplotlib.pyplot as plt\n",
    "import sys,string\n",
    "from pylab import *\n",
    "from pyeeg import bin_power\n",
    "import glob\n",
    "import os\n",
    "import pandas as pd\n",
    "import matplotlib.pyplot as plt\n",
    "from sklearn.linear_model import LogisticRegression\n",
    "from sklearn.cross_validation import train_test_split\n",
    "%matplotlib inline\n"
   ]
  },
  {
   "cell_type": "code",
   "execution_count": 7,
   "metadata": {
    "collapsed": false
   },
   "outputs": [],
   "source": [
    "#here split the data to eyeclose and eyeopen from the raw data \n",
    "chunkList = []\n",
    "with open('eyeclose.txt', 'r') as fc:\n",
    "    datalist = fc.readlines()\n",
    "    for line in datalist:\n",
    "        x= line.split(\"\\n\")\n",
    "        del x[-1]\n",
    "        chunkList.append(x)\n",
    "dataListArray = []\n",
    "for k in chunkList:\n",
    "    dataList = str(k).replace('[','').replace(']','').replace('\\'','').split(' ')\n",
    "    dataListArray.append(dataList)\n",
    "for j in range(len(dataListArray)):\n",
    "    for i in range(len(dataListArray[j])):\n",
    "        filePath = 'EEG\\eyeclose\\Teyeclose' + str(j+1) + '.txt'\n",
    "        with open (filePath,'a') as f:\n",
    "            f.write(dataListArray[j][i]+'\\n')\n",
    "\n",
    "chunkList1 = []\n",
    "with open('eyeopen.txt', 'r') as fo:\n",
    "    datalist1 = fo.readlines()\n",
    "    for line in datalist1:\n",
    "        x= line.split(\"\\n\")\n",
    "        del x[-1]\n",
    "        chunkList1.append(x)\n",
    "dataListArray1 = []\n",
    "for k1 in chunkList1:\n",
    "    dataList1 = str(k1).replace('[','').replace(']','').replace('\\'','').split(' ')\n",
    "    dataListArray1.append(dataList1)\n",
    "for j in range(len(dataListArray1)):\n",
    "    for i in range(len(dataListArray1[j])):\n",
    "        filePath = 'EEG\\eyeopen\\Teyeopen' + str(j+1) + '.txt'\n",
    "        with open (filePath,'a') as fo:\n",
    "            fo.write(dataListArray1[j][i]+'\\n')\n"
   ]
  },
  {
   "cell_type": "code",
   "execution_count": 10,
   "metadata": {
    "collapsed": true
   },
   "outputs": [],
   "source": [
    "# here generating the feature using bin_power function for generationg and extracting Alpha signal\n",
    "with open('resultc.txt','a') as resultc:\n",
    "    for i in range(40):\n",
    "        X = open(\"EEG\\eyeclose\\Teyeclose\"+str(i+1)+\".txt\",\"r\")\n",
    "        power , power_ratio = bin_power(list(X)[-512*3:],[0.5,4,7,12,30], 1024)\n",
    "        signal_splitted =str(power).split()\n",
    "        alpha_Signal = signal_splitted[3]\n",
    "        resultc.write(str(alpha_Signal)+'\\n')\n",
    "\n",
    "with open('resulto.txt', 'a') as resulto:\n",
    "    for i in range(40):\n",
    "        X = open(\"EEG\\eyeopen\\Teyeopen\" + str(i + 1) + \".txt\", \"r\")\n",
    "        power, power_ratio = bin_power(list(X)[-512 * 3:], [0.5, 4, 7, 12, 30], 1024)\n",
    "        signal_splitted = str(power).split()\n",
    "        alpha_Signal = signal_splitted[3]\n",
    "        resulto.write(str(alpha_Signal) + '\\n')"
   ]
  },
  {
   "cell_type": "code",
   "execution_count": 11,
   "metadata": {
    "collapsed": true
   },
   "outputs": [],
   "source": [
    "#here the machine learning Algorithim started . \n",
    "#read alpha signal for both eyes close and open \n",
    "open_ds = pd.read_csv(\"resulto.txt\")\n",
    "close_ds = pd.read_csv(\"resultc.txt\")"
   ]
  },
  {
   "cell_type": "code",
   "execution_count": null,
   "metadata": {
    "collapsed": false
   },
   "outputs": [],
   "source": []
  },
  {
   "cell_type": "code",
   "execution_count": 15,
   "metadata": {
    "collapsed": false
   },
   "outputs": [
    {
     "data": {
      "text/plain": [
       "<matplotlib.collections.PathCollection at 0x25356f155c0>"
      ]
     },
     "execution_count": 15,
     "metadata": {},
     "output_type": "execute_result"
    },
    {
     "data": {
      "image/png": "[encoded data removed]",
      "text/plain": [
       "<matplotlib.figure.Figure at 0x25356c9c278>"
      ]
     },
     "metadata": {},
     "output_type": "display_data"
    }
   ],
   "source": [
    "#again this is for me , it is not important for the final code \n",
    "#This is to plot the points\n",
    "plt.scatter(open_ds.index, open_ds, c=\"red\")\n",
    "plt.scatter(close_ds.index, close_ds, c=\"blue\")"
   ]
  },
  {
   "cell_type": "code",
   "execution_count": null,
   "metadata": {
    "collapsed": false
   },
   "outputs": [],
   "source": []
  },
  {
   "cell_type": "code",
   "execution_count": null,
   "metadata": {
    "collapsed": true
   },
   "outputs": [],
   "source": []
  },
  {
   "cell_type": "code",
   "execution_count": null,
   "metadata": {
    "collapsed": true
   },
   "outputs": [],
   "source": []
  },
  {
   "cell_type": "code",
   "execution_count": null,
   "metadata": {
    "collapsed": true
   },
   "outputs": [],
   "source": []
  },
  {
   "cell_type": "code",
   "execution_count": null,
   "metadata": {
    "collapsed": true
   },
   "outputs": [],
   "source": []
  },
  {
   "cell_type": "code",
   "execution_count": null,
   "metadata": {
    "collapsed": true
   },
   "outputs": [],
   "source": []
  },
  {
   "cell_type": "code",
   "execution_count": null,
   "metadata": {
    "collapsed": true
   },
   "outputs": [],
   "source": []
  },
  {
   "cell_type": "code",
   "execution_count": null,
   "metadata": {
    "collapsed": true
   },
   "outputs": [],
   "source": []
  },
  {
   "cell_type": "code",
   "execution_count": null,
   "metadata": {
    "collapsed": true
   },
   "outputs": [],
   "source": []
  },
  {
   "cell_type": "code",
   "execution_count": null,
   "metadata": {
    "collapsed": true
   },
   "outputs": [],
   "source": []
  }
 ],
 "metadata": {
  "kernelspec": {
   "display_name": "Python 3",
   "language": "python",
   "name": "python3"
  },
  "language_info": {
   "codemirror_mode": {
    "name": "ipython",
    "version": 3
   },
   "file_extension": ".py",
   "mimetype": "text/x-python",
   "name": "python",
   "nbconvert_exporter": "python",
   "pygments_lexer": "ipython3",
   "version": "3.5.1"
  }
 },
 "nbformat": 4,
 "nbformat_minor": 0
}
