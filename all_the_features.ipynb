{
 "cells": [
  {
   "cell_type": "code",
   "execution_count": 6,
   "metadata": {
    "collapsed": true
   },
   "outputs": [],
   "source": [
    "import pandas as pd\n",
    "import numpy as np\n",
    "import matplotlib.pyplot as plt\n",
    "import sys,string\n",
    "from pylab import *\n",
    "from pyeeg import bin_power\n",
    "import glob\n",
    "import os\n",
    "import pandas as pd\n",
    "import matplotlib.pyplot as plt\n",
    "from sklearn.linear_model import LogisticRegression\n",
    "from sklearn.cross_validation import train_test_split\n",
    "%matplotlib inline\n"
   ]
  },
  {
   "cell_type": "code",
   "execution_count": 7,
   "metadata": {
    "collapsed": false
   },
   "outputs": [],
   "source": [
    "#here split the data to eyeclose and eyeopen from the raw data \n",
    "chunkList = []\n",
    "with open('eyeclose.txt', 'r') as fc:\n",
    "    datalist = fc.readlines()\n",
    "    for line in datalist:\n",
    "        x= line.split(\"\\n\")\n",
    "        del x[-1]\n",
    "        chunkList.append(x)\n",
    "dataListArray = []\n",
    "for k in chunkList:\n",
    "    dataList = str(k).replace('[','').replace(']','').replace('\\'','').split(' ')\n",
    "    dataListArray.append(dataList)\n",
    "for j in range(len(dataListArray)):\n",
    "    for i in range(len(dataListArray[j])):\n",
    "        filePath = 'EEG\\eyeclose\\Teyeclose' + str(j+1) + '.txt'\n",
    "        with open (filePath,'a') as f:\n",
    "            f.write(dataListArray[j][i]+'\\n')\n",
    "\n",
    "chunkList1 = []\n",
    "with open('eyeopen.txt', 'r') as fo:\n",
    "    datalist1 = fo.readlines()\n",
    "    for line in datalist1:\n",
    "        x= line.split(\"\\n\")\n",
    "        del x[-1]\n",
    "        chunkList1.append(x)\n",
    "dataListArray1 = []\n",
    "for k1 in chunkList1:\n",
    "    dataList1 = str(k1).replace('[','').replace(']','').replace('\\'','').split(' ')\n",
    "    dataListArray1.append(dataList1)\n",
    "for j in range(len(dataListArray1)):\n",
    "    for i in range(len(dataListArray1[j])):\n",
    "        filePath = 'EEG\\eyeopen\\Teyeopen' + str(j+1) + '.txt'\n",
    "        with open (filePath,'a') as fo:\n",
    "            fo.write(dataListArray1[j][i]+'\\n')\n"
   ]
  },
  {
   "cell_type": "code",
   "execution_count": 35,
   "metadata": {
    "collapsed": true
   },
   "outputs": [],
   "source": [
    "# here generating the feature using bin_power function for generationg and extracting Alpha signal\n",
    "with open('resultc3.txt','a') as resultc:\n",
    "    for i in range(40):\n",
    "        X = open(\"EEG\\eyeclose\\Teyeclose\"+str(i+1)+\".txt\",\"r\")\n",
    "        power , power_ratio = bin_power(list(X)[-512*3:],[0.5,4,7,12,30], 1024)\n",
    "        signal_splitted =str(power).split()\n",
    "        alpha_Signal = signal_splitted[3]\n",
    "        resultc.write(str(alpha_Signal)+'\\n')\n",
    "\n",
    "with open('resulto3.txt', 'a') as resulto:\n",
    "    for i in range(40):\n",
    "        X = open(\"EEG\\eyeopen\\Teyeopen\" + str(i + 1) + \".txt\", \"r\")\n",
    "        power, power_ratio = bin_power(list(X)[-512 * 3:], [0.5, 4, 7, 12, 30], 1024)\n",
    "        signal_splitted = str(power).split()\n",
    "        alpha_Signal = signal_splitted[3]\n",
    "        resulto.write(str(alpha_Signal) + '\\n')"
   ]
  },
  {
   "cell_type": "code",
   "execution_count": 25,
   "metadata": {
    "collapsed": true
   },
   "outputs": [],
   "source": [
    "# here generating the feature using bin_power function for generationg and extracting Alpha signal\n",
    "with open('resultc2.txt','a') as resultc:\n",
    "    for i in range(40):\n",
    "        X = open(\"EEG\\eyeclose\\Teyeclose\"+str(i+1)+\".txt\",\"r\")\n",
    "        power , power_ratio = bin_power(list(X)[-512*3:],[0.5,4,7,12,30], 1024)\n",
    "        signal_splitted =str(power).split()\n",
    "        alpha_Signal = signal_splitted[2]\n",
    "        resultc.write(str(alpha_Signal)+'\\n')\n",
    "\n",
    "with open('resulto2.txt', 'a') as resulto:\n",
    "    for i in range(40):\n",
    "        X = open(\"EEG\\eyeopen\\Teyeopen\" + str(i + 1) + \".txt\", \"r\")\n",
    "        power, power_ratio = bin_power(list(X)[-512 * 3:], [0.5, 4, 7, 12, 30], 1024)\n",
    "        signal_splitted = str(power).split()\n",
    "        alpha_Signal = signal_splitted[2]\n",
    "        resulto.write(str(alpha_Signal) + '\\n')"
   ]
  },
  {
   "cell_type": "code",
   "execution_count": 26,
   "metadata": {
    "collapsed": false
   },
   "outputs": [],
   "source": [
    "# here generating the feature using bin_power function for generationg and extracting Alpha signal\n",
    "with open('resultc1.txt','a') as resultc:\n",
    "    for i in range(40):\n",
    "        X = open(\"EEG\\eyeclose\\Teyeclose\"+str(i+1)+\".txt\",\"r\")\n",
    "        power , power_ratio = bin_power(list(X)[-512*3:],[0.5,4,7,12,30], 1024)\n",
    "        signal_splitted =str(power).split()\n",
    "        alpha_Signal = signal_splitted[1]\n",
    "        resultc.write(str(alpha_Signal)+'\\n')\n",
    "\n",
    "with open('resulto1.txt', 'a') as resulto:\n",
    "    for i in range(40):\n",
    "        X = open(\"EEG\\eyeopen\\Teyeopen\" + str(i + 1) + \".txt\", \"r\")\n",
    "        power, power_ratio = bin_power(list(X)[-512 * 3:], [0.5, 4, 7, 12, 30], 1024)\n",
    "        signal_splitted = str(power).split()\n",
    "        alpha_Signal = signal_splitted[1]\n",
    "        resulto.write(str(alpha_Signal) + '\\n')"
   ]
  },
  {
   "cell_type": "code",
   "execution_count": 40,
   "metadata": {
    "collapsed": false
   },
   "outputs": [],
   "source": [
    "# here generating the feature using bin_power function for generationg and extracting Alpha signal\n",
    "with open('resultc4.txt','a') as resultc:\n",
    "    for i in range(40):\n",
    "        X = open(\"EEG\\eyeclose\\Teyeclose\"+str(i+1)+\".txt\",\"r\")\n",
    "        power , power_ratio = bin_power(list(X)[-512*3:],[0.5,4,7,12,30], 1024)\n",
    "        signal_splitted =str(power).split()\n",
    "        alpha_Signal = signal_splitted[4]\n",
    "        resultc.write(str(alpha_Signal)+'\\n')\n",
    "\n",
    "with open('resulto4.txt', 'a') as resulto:\n",
    "    for i in range(40):\n",
    "        X = open(\"EEG\\eyeopen\\Teyeopen\" + str(i + 1) + \".txt\", \"r\")\n",
    "        power, power_ratio = bin_power(list(X)[-512 * 3:], [0.5, 4, 7, 12, 30], 1024)\n",
    "        signal_splitted = str(power).split()\n",
    "        alpha_Signal = signal_splitted[4]\n",
    "        resulto.write(str(alpha_Signal) + '\\n')"
   ]
  },
  {
   "cell_type": "code",
   "execution_count": 29,
   "metadata": {
    "collapsed": false
   },
   "outputs": [],
   "source": [
    "#here the machine learning Algorithim started . \n",
    "#delta....\n",
    "open_ds1 = pd.read_csv(\"resulto1.txt\")\n",
    "close_ds1 = pd.read_csv(\"resultc1.txt\")"
   ]
  },
  {
   "cell_type": "code",
   "execution_count": 30,
   "metadata": {
    "collapsed": false
   },
   "outputs": [
    {
     "data": {
      "text/plain": [
       "<matplotlib.collections.PathCollection at 0x253577c5a20>"
      ]
     },
     "execution_count": 30,
     "metadata": {},
     "output_type": "execute_result"
    },
    {
     "data": {
      "image/png": "[encoded data removed]",
      "text/plain": [
       "<matplotlib.figure.Figure at 0x25356a28d68>"
      ]
     },
     "metadata": {},
     "output_type": "display_data"
    }
   ],
   "source": [
    "#again this is for me , it is not important for the final code \n",
    "#This is to plot the points\n",
    "plt.scatter(open_ds1.index, open_ds1, c=\"red\")\n",
    "plt.scatter(close_ds1.index, close_ds1, c=\"blue\")"
   ]
  },
  {
   "cell_type": "code",
   "execution_count": 33,
   "metadata": {
    "collapsed": true
   },
   "outputs": [],
   "source": [
    "#here the machine learning Algorithim started . \n",
    "#theta....\n",
    "open_ds2 = pd.read_csv(\"resulto2.txt\")\n",
    "close_ds2 = pd.read_csv(\"resultc2.txt\")"
   ]
  },
  {
   "cell_type": "code",
   "execution_count": 34,
   "metadata": {
    "collapsed": false
   },
   "outputs": [
    {
     "data": {
      "text/plain": [
       "<matplotlib.collections.PathCollection at 0x25357899a90>"
      ]
     },
     "execution_count": 34,
     "metadata": {},
     "output_type": "execute_result"
    },
    {
     "data": {
      "image/png": "[encoded data removed]",
      "text/plain": [
       "<matplotlib.figure.Figure at 0x2535783feb8>"
      ]
     },
     "metadata": {},
     "output_type": "display_data"
    }
   ],
   "source": [
    "#again this is for me , it is not important for the final code \n",
    "#This is to plot the points\n",
    "plt.scatter(open_ds2.index, open_ds2, c=\"red\")\n",
    "plt.scatter(close_ds2.index, close_ds2, c=\"blue\")"
   ]
  },
  {
   "cell_type": "code",
   "execution_count": 36,
   "metadata": {
    "collapsed": true
   },
   "outputs": [],
   "source": [
    "#here the machine learning Algorithim started . \n",
    "#alpha .....\n",
    "open_ds3 = pd.read_csv(\"resulto3.txt\")\n",
    "close_ds3 = pd.read_csv(\"resultc3.txt\")\n"
   ]
  },
  {
   "cell_type": "code",
   "execution_count": 37,
   "metadata": {
    "collapsed": false
   },
   "outputs": [
    {
     "data": {
      "text/plain": [
       "<matplotlib.collections.PathCollection at 0x253579002b0>"
      ]
     },
     "execution_count": 37,
     "metadata": {},
     "output_type": "execute_result"
    },
    {
     "data": {
      "image/png": "[encoded data removed]",
      "text/plain": [
       "<matplotlib.figure.Figure at 0x253578ad400>"
      ]
     },
     "metadata": {},
     "output_type": "display_data"
    }
   ],
   "source": [
    "#again this is for me , it is not important for the final code \n",
    "#This is to plot the points\n",
    "plt.scatter(open_ds3.index, open_ds3, c=\"red\")\n",
    "plt.scatter(close_ds3.index, close_ds3, c=\"blue\")"
   ]
  },
  {
   "cell_type": "code",
   "execution_count": 45,
   "metadata": {
    "collapsed": true
   },
   "outputs": [],
   "source": [
    "#here the machine learning Algorithim started . \n",
    "#beta .... \n",
    "open_ds4 = pd.read_csv(\"resulto4.txt\")\n",
    "close_ds4 = pd.read_csv(\"resultc4.txt\")"
   ]
  },
  {
   "cell_type": "code",
   "execution_count": 46,
   "metadata": {
    "collapsed": false
   },
   "outputs": [
    {
     "data": {
      "text/plain": [
       "<matplotlib.collections.PathCollection at 0x25357cafb00>"
      ]
     },
     "execution_count": 46,
     "metadata": {},
     "output_type": "execute_result"
    },
    {
     "data": {
      "image/png": "[encoded data removed]",
      "text/plain": [
       "<matplotlib.figure.Figure at 0x25357c66898>"
      ]
     },
     "metadata": {},
     "output_type": "display_data"
    }
   ],
   "source": [
    "#again this is for me , it is not important for the final code \n",
    "#This is to plot the points\n",
    "plt.scatter(open_ds4.index, open_ds4, c=\"red\")\n",
    "plt.scatter(close_ds4.index, close_ds4, c=\"blue\")"
   ]
  },
  {
   "cell_type": "code",
   "execution_count": null,
   "metadata": {
    "collapsed": true
   },
   "outputs": [],
   "source": []
  },
  {
   "cell_type": "code",
   "execution_count": null,
   "metadata": {
    "collapsed": true
   },
   "outputs": [],
   "source": []
  },
  {
   "cell_type": "code",
   "execution_count": null,
   "metadata": {
    "collapsed": true
   },
   "outputs": [],
   "source": []
  },
  {
   "cell_type": "code",
   "execution_count": null,
   "metadata": {
    "collapsed": true
   },
   "outputs": [],
   "source": []
  }
 ],
 "metadata": {
  "kernelspec": {
   "display_name": "Python 3",
   "language": "python",
   "name": "python3"
  },
  "language_info": {
   "codemirror_mode": {
    "name": "ipython",
    "version": 3
   },
   "file_extension": ".py",
   "mimetype": "text/x-python",
   "name": "python",
   "nbconvert_exporter": "python",
   "pygments_lexer": "ipython3",
   "version": "3.5.1"
  }
 },
 "nbformat": 4,
 "nbformat_minor": 0
}
